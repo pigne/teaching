{
 "cells": [
  {
   "cell_type": "markdown",
   "metadata": {},
   "source": [
    "# Corrections des exercices\n",
    "\n",
    "Voici une proposition de correction des exercices proposé pour la partie de cours sur les types de données. \n",
    " \n",
    "## Division par soustractions"
   ]
  },
  {
   "cell_type": "code",
   "execution_count": null,
   "metadata": {},
   "outputs": [],
   "source": [
    "\n",
    "def divide(N, D):\n",
    "    if D == 0:\n",
    "        print(\"error, 0 devide\")\n",
    "        return\n",
    "    if D < 0:\n",
    "        (Q, R) = divide(N, -D)\n",
    "        if R == 0:\n",
    "            return (-Q, 0)\n",
    "        else:\n",
    "            return (-Q, D + R)\n",
    "    if N < 0:\n",
    "        (Q,R) = divide(-N, D)\n",
    "        if R == 0:\n",
    "            return (-Q, 0)\n",
    "        else:\n",
    "            return (-Q , D - R)\n",
    "    # At this point, N ≥ 0 and D > 0\n",
    "    return divide_unsigned(N, D)\n",
    "\n",
    "def divide_unsigned(N, D):\n",
    "    Q = 0\n",
    "    R = N\n",
    "    while R >= D:\n",
    "        Q = Q + 1\n",
    "        R = R - D\n",
    "        print(Q, R)\n",
    "    return (Q, R)\n",
    "\n",
    "try:\n",
    "    for a,b in ((-17, 3), (17, 3), (-17, -3), (17, -3), \n",
    "                (5, 5), (5, -5), (-5, 5), (-5, -5),\n",
    "                (18, 3), (-18, 3), (18, -3), (-18, -3),\n",
    "                (3, 18), (3, -18), (-3, 18), (-3, -18),) :\n",
    "        rq = int(a / b)\n",
    "        rr = a % b\n",
    "        (q, r)  = divide(a, b)\n",
    "        print(f'a={a} b={b} q={q} r= {r} a/b = {rq} rr= {rr}')\n",
    "        assert  int(a / b) == q\n",
    "        assert  a % b == r\n",
    "except AssertionError:\n",
    "    print(\"La division ne fonctionne pas.\")"
   ]
  },
  {
   "cell_type": "markdown",
   "metadata": {},
   "source": [
    "## Racine carrée\n",
    "\n",
    "### La fonction"
   ]
  },
  {
   "cell_type": "code",
   "execution_count": 56,
   "metadata": {
    "attributes": {
     "classes": [],
     "id": "",
     "n": "56"
    }
   },
   "outputs": [],
   "source": [
    "def racine_carree(a, epsilon):\n",
    "    print(f\"Estimation de la racine carrée de {a} :\")\n",
    "    if  a<= 0:\n",
    "        print(f\"Nope.\")\n",
    "        raise ValueError('No square root for negative numbers.')\n",
    "    x1 = 2.0\n",
    "    x0 = 1.0\n",
    "    while (x1-x0 if x1>x0 else x0-x1) > epsilon:\n",
    "        #print(f'{x:9.4f}')\n",
    "        print('{:30.15f}'.format(x1))\n",
    "        x0 = x1;\n",
    "        x1 = (x0 + a / x0) / 2.0\n",
    "    return x1\n"
   ]
  },
  {
   "cell_type": "markdown",
   "metadata": {},
   "source": [
    "### Le test"
   ]
  },
  {
   "cell_type": "code",
   "execution_count": null,
   "metadata": {},
   "outputs": [],
   "source": [
    "import numpy as np\n",
    "from random import random\n",
    "import math\n",
    "def frange(x, y, jump):\n",
    "  while x < y:\n",
    "    yield x\n",
    "    x += jump\n",
    "\n",
    "    \n",
    "epsilon = np.finfo(float).eps\n",
    "print(f\"Epsilon du format `float`:  {epsilon}\")\n",
    "    \n",
    "raiseErrorOnNegOrZero = False\n",
    "try:\n",
    "    racine_carree(0, epsilon)\n",
    "except ValueError:\n",
    "    raiseErrorOnNegOrZero = True\n",
    "\n",
    "try:\n",
    "    racine_carree(-120, epsilon)\n",
    "except ValueError:\n",
    "    raiseErrorOnNegOrZero = True\n",
    "\n",
    "assert raiseErrorOnNegOrZero\n",
    "    \n",
    "biggestDiff = 0\n",
    "try:\n",
    "    for a in frange(1, 100, 10*random()) :\n",
    "        rrc = math.sqrt(a)\n",
    "        rc = racine_carree(a, epsilon)\n",
    "        diff = abs(rrc-rc)\n",
    "        if diff > biggestDiff:\n",
    "            biggestDiff = diff\n",
    "        #print(f'rrc={rrc} rc={rc} diff={diff}')\n",
    "        assert  diff <=  (10*epsilon)\n",
    "except AssertionError:\n",
    "    print(\"La méthode de racine carré ne fonctionne pas.\")\n",
    "    \n",
    "racine_carree(1234*1234, epsilon)\n",
    "print(f\"Plus grande différence : {biggestDiff}\")"
   ]
  },
  {
   "cell_type": "markdown",
   "metadata": {},
   "source": [
    "## tableur"
   ]
  },
  {
   "cell_type": "code",
   "execution_count": 1,
   "metadata": {
    "attributes": {
     "classes": [],
     "id": "",
     "n": "1"
    }
   },
   "outputs": [],
   "source": [
    "\n",
    "from pandas_ods_reader import read_ods\n",
    "f = \"resultats-2016.ods\"\n",
    "\n",
    "df = read_ods(f, 1)\n",
    "df.head()"
   ]
  },
  {
   "cell_type": "code",
   "execution_count": null,
   "metadata": {},
   "outputs": [],
   "source": [
    "\n",
    "# 6.\n",
    "print(\"nombre d'établissements =\", df.shape[0])\n"
   ]
  },
  {
   "cell_type": "code",
   "execution_count": null,
   "metadata": {},
   "outputs": [],
   "source": [
    "# 7. calculer le nombre total d'élèves présents au bac pour chacune des trois séries :\n",
    "\n",
    "df[[\"Presents.L\", \"Presents.ES\", \"Presents.S\"]].sum()"
   ]
  },
  {
   "cell_type": "code",
   "execution_count": null,
   "metadata": {},
   "outputs": [],
   "source": [
    "# 8 print(\"nombre d'élèves par établissement\")\n",
    "df[\"nbEleves\"] = df[\"Presents.L\"]+  df[\"Presents.ES\"] + df[\"Presents.S\"]\n",
    "\n",
    "df[['Établissement','nbEleves']].head()"
   ]
  },
  {
   "cell_type": "code",
   "execution_count": null,
   "metadata": {},
   "outputs": [],
   "source": [
    "# 9 utiliser la fonction MOYENNE() pour calculer la moyenne du taux de réussite par série , avec deux décimales \n",
    "df[[\"Taux.L\", \"Taux.ES\", \"Taux.S\"]].mean()"
   ]
  },
  {
   "cell_type": "code",
   "execution_count": null,
   "metadata": {},
   "outputs": [],
   "source": [
    "#10  calculer la moyenne du taux de réussite par établissement, avec deux décimales ;\n",
    "df[\"averageRate\"] = (df[\"Taux.L\"]+  df[\"Taux.ES\"] + df[\"Taux.S\"]) /3\n",
    "df[['Établissement','averageRate']].head()"
   ]
  },
  {
   "cell_type": "code",
   "execution_count": null,
   "metadata": {},
   "outputs": [],
   "source": [
    "#11. utiliser la fonction SI() pour déterminer les établissements dont la moyenne sur les trois séries \n",
    "# est supérieure à 90 % ;\n",
    "sup90 = df.query('averageRate > 90')#df[df['averageRate']>90]\n",
    "sup90.shape"
   ]
  },
  {
   "cell_type": "code",
   "execution_count": null,
   "metadata": {},
   "outputs": [],
   "source": [
    "#12. utiliser la fonction NB.SI() pour calculer le nombre d'établissements dont la moyenne sur les trois \n",
    "# séries est strictement inférieure à 90 % et ceux dont la moyenne est supérieure à 90 %;\n",
    "print(\"nd inf\", df.shape[0] - sup90.shape[0])\n",
    "print(\"nd sup\", sup90.shape[0])\n"
   ]
  },
  {
   "cell_type": "markdown",
   "metadata": {},
   "source": [
    "## format JSON"
   ]
  },
  {
   "cell_type": "code",
   "execution_count": null,
   "metadata": {},
   "outputs": [],
   "source": [
    "from pandas import DataFrame \n",
    "\n",
    "data = {\"Civilité\":(\"M\",\"F\", \"F\"),'Prénom':('Alphonse','Béatrice', 'Charlotte'), \"année\":(1932, 1964, 1988)}\n",
    "\n",
    "df = DataFrame(data)\n",
    "print(df.query('Civilité == \"F\"'))\n",
    "\n",
    "print(\"année moyenne: {:.0f}\".format(df['année'].mean()))\n"
   ]
  }
 ],
 "metadata": {},
 "nbformat": 4,
 "nbformat_minor": 2
}
