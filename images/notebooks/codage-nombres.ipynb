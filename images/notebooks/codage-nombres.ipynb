{
 "cells": [
  {
   "cell_type": "markdown",
   "metadata": {},
   "source": [
    "# Codage des nombres\n",
    "\n",
    "## Références\n",
    "\n",
    "Ce cours s’inspire ***très largement*** de, ou utilise les supports\n",
    "suivants :\n",
    "\n",
    "  - *[Unités de mesure](https://pigne.org/teaching/images/unites.pdf)*\n",
    "    par Jean-Luc Ponty, Université Le Havre Normandie\n",
    "  - *[Codage des\n",
    "    données](https://moodle3.unistra.fr/mod/resource/view.php?id=406075)*\n",
    "    par Cédric Bastoul, Université de Strasbourg\n",
    "  - *[Two’s\n",
    "    complement](https://en.wikipedia.org/wiki/Two%27s_complement)*\n",
    "    Wikipedia (accédé le 10 juin 2019)\n",
    "\n",
    "## Nombres Entier\n",
    "\n",
    "## Unités de mesure\n",
    "\n",
    "Présentation des [unités de\n",
    "mesure](https://pigne.org/teaching/DIU_EIL/unites.pdf).\n",
    "\n",
    "### Les entiers non signés\n",
    "\n",
    "On code les entiers naturels, positifs ou nuls, avec des entier non\n",
    "signés en binaire (base 2) de façon similaire à la base décimale (base\n",
    "10)\n",
    "\n",
    "| décimal | binaire |\n",
    "| ------- | ------- |\n",
    "| 0       | 0       |\n",
    "| 1       | 1       |\n",
    "| 2       | 10      |\n",
    "| 3       | 11      |\n",
    "| 4       | 100     |\n",
    "| 5       | 101     |\n",
    "| 6       | 110     |\n",
    "| 7       | 111     |\n",
    "| 8       | 1000    |\n",
    "| 9       | 1001    |\n",
    "\n",
    "Avec n bits, on peut coder les entiers naturels de 0 à 2n − 1\n",
    "\n",
    "### Opérations\n",
    "\n",
    "#### Conversion de base 2 à base 10\n",
    "\n",
    "La position des bits donnes la valeur de la puissance de 2."
   ]
  },
  {
   "cell_type": "markdown",
   "metadata": {},
   "source": [
    "``` text\n",
    "110 (2) = 1*2^2 + 1*2^1 + 0*2^0 \n",
    "        =   4   +   2   +   0  (10)\n",
    "        =   6 (10)\n",
    "```\n"
   ]
  },
  {
   "cell_type": "markdown",
   "metadata": {},
   "source": [
    "Sommes des puissances de 2 aux positions des “1”.\n",
    "\n",
    "#### Conversion de base 10 à base 2\n",
    "\n",
    "On divise le nombre en base 10 par 2 puis successivement les quotients\n",
    "jusqu’à ce qu’il soit nul. Puis on aligne les restes dans le sens\n",
    "inverse"
   ]
  },
  {
   "cell_type": "markdown",
   "metadata": {},
   "source": [
    "``` text\n",
    "6 ┃ 2\n",
    "0 ┣━━\n",
    "  ┃ 3 ┃ 2\n",
    "    1 ┣━━\n",
    "      ┃ 1 ┃ 2\n",
    "        1 ┣━━\n",
    "          ┃ 0\n",
    "\n",
    "        = 110 (2)\n",
    "```\n"
   ]
  },
  {
   "cell_type": "markdown",
   "metadata": {},
   "source": [
    "#### Additions, soustractions, multiplications, divisions\n",
    "\n",
    "Identique à la base 10 avec restes et retenus"
   ]
  },
  {
   "cell_type": "markdown",
   "metadata": {},
   "source": [
    "``` text\n",
    " r 10111\n",
    "    10111 (2) = 23 (10)\n",
    " +  10011 (2) = 19 (10)\n",
    "   ------\n",
    "   101010 (2) = 42 (10)\n",
    "```\n"
   ]
  },
  {
   "cell_type": "markdown",
   "metadata": {},
   "source": [
    "### Les entiers signés (méthode naïve)\n",
    "\n",
    "On peut être tenté d’utiliser d’utiliser le bit de poids fort pour\n",
    "représenter le signe :\n",
    "\n",
    "Exemple sur un octet :"
   ]
  },
  {
   "cell_type": "markdown",
   "metadata": {},
   "source": [
    "``` text\n",
    "0010 1010 (2) = 42 (10)\n",
    "1010 1010 (2) ? -42 (10)\n",
    "```\n"
   ]
  },
  {
   "cell_type": "markdown",
   "metadata": {},
   "source": [
    "Problème, l’arithmétique classique ne fonctionne plus :"
   ]
  },
  {
   "cell_type": "markdown",
   "metadata": {},
   "source": [
    "``` text\n",
    "  1010 1010 (2) ? -42 (10)\n",
    "+ 0000 0010 (2) = 2 (10)\n",
    " -------------------------\n",
    "  1010 1100 (2) ? -44 (10)\n",
    "```\n"
   ]
  },
  {
   "cell_type": "markdown",
   "metadata": {},
   "source": [
    "### codage en complément a 2\n",
    "\n",
    "Pour N bits disponibles, on veut coder des nombres entiers prenant des\n",
    "valeurs entre −2N − 1 et 2N − 1 − 1.\n",
    "\n",
    "On souhaite aussi que les opération arithmétiques fonctionnent.\n",
    "\n",
    "On conserve l’idée du signé donné par le bit de poids fort.\n",
    "\n",
    "Les nombres positifs sont représentés comme d’ordinaire. Les nombres\n",
    "négatif sont représentés en complément a 2. L’opération se fait en 2\n",
    "étapes :\n",
    "\n",
    "1.  On prend la représentation binaire du nombre en valeur absolue;\n",
    "2.  on inverse bit les bits de ce nombre;\n",
    "3.  On ajoute 1 au résultat précédent (les dépassements sont ignorés)\n",
    "\n",
    "Pour coder (−4) :\n",
    "\n",
    "1.  on prend le nombre positif 4 : `00000100` ;\n",
    "2.  on inverse les bits : `11111011` ;\n",
    "3.  on ajoute 1 : `11111100`.\n",
    "\n",
    "### opérations\n",
    "\n",
    "L’addition fonctionne comme d’ordinaire."
   ]
  },
  {
   "cell_type": "markdown",
   "metadata": {},
   "source": [
    "``` text\n",
    "   11111100 (2) = -4 (10)\n",
    "+  00000100 (2) =  4 (10)\n",
    "-----------\n",
    "  x00000000 (2) =  0 (10)\n",
    "```\n"
   ]
  },
  {
   "cell_type": "markdown",
   "metadata": {},
   "source": [
    "Pour la soustraction on fait d’abord le complement a 2 de la seconde\n",
    "opérande puis en fait l’addition.\n",
    "\n",
    "La multiplication et la division peuvent à minima être semblable a\n",
    "l’algo naïf (additions, resp. soustractions successives) sauf qu’on\n",
    "doit doubler le nombre de bits sur lesquels sont codé les nombres. on\n",
    "doit aussi propager les bit de signe. Par exemple `1010` sur 4 bits\n",
    "devient `1111 1010`. `101` sur 4 bits reste `101` car le bit de poids\n",
    "fort est un `0`.\n",
    "\n",
    "Simulation de la multiplication avec compléments à 2 :"
   ]
  },
  {
   "cell_type": "code",
   "execution_count": null,
   "metadata": {},
   "outputs": [],
   "source": [
    "def c2(n, bits=8):\n",
    "    return bin(n % (1<<bits))\n",
    "\n",
    "def printr(str, padding='20'):\n",
    "    print((\"{:>\"+padding+\"}\").format(str))\n",
    "\n",
    "def multiply(a,b, bits=8):\n",
    "    shift = 0\n",
    "    res = 0\n",
    "    while shift < bits:\n",
    "        x = (((b >> shift) & 1) * (a<<shift)) % (1<<bits)\n",
    "        printr(c2(x, 2*bits))\n",
    "        res += x\n",
    "        shift+=1\n",
    "    printr('--------')\n",
    "    printr(c2(res, 2*bits))\n",
    "    printr(str(bits)+' bits: '+c2(res, bits))\n",
    "\n",
    "    res = (res % (1<<bits) )  + ( -1 ^ ((1<<bits)-1) )  * ((res>>(bits-1)) & 1)\n",
    "    printr(res)\n",
    "    return res\n",
    "\n",
    "    \n",
    "bits = 8\n",
    "a = 7\n",
    "print(\"a =\",c2(a))\n",
    "b = -3\n",
    "print(\"b =\",c2(b))\n",
    "print(\"expected a*b =\",a*b)\n",
    "\n",
    "multiply(a,b,bits)"
   ]
  },
  {
   "cell_type": "markdown",
   "metadata": {},
   "source": [
    "Exercice : En vous inspirant de la [division des nombres entiers par\n",
    "soustractions\n",
    "successives](https://en.wikipedia.org/wiki/Division_algorithm#Division_by_repeated_subtraction)\n",
    "proposer une implémentation en python. Vérifiez que les cela fonctionne\n",
    "quelque soit le signe des opérandes. Proposez in affichage clair.\n",
    "\n",
    "## Codage des nombres flottants\n",
    "\n",
    "Mode de représentation des réels. Contrairement aux entiers, cette\n",
    "représentation n’est pas exacte. Elle souffre d’erreurs\n",
    "d’approximations qui se propagent avec les opérations arithmétiques.\n",
    "\n",
    "La fonction\n",
    "[finfo](https://docs.scipy.org/doc/numpy/reference/generated/numpy.finfo.html)\n",
    "du package `numpy` nous indique les particularités des type de nombres\n",
    "flottants disponibles dans le langage Python.\n",
    "\n",
    "Pour les flottants classiques de python :"
   ]
  },
  {
   "cell_type": "code",
   "execution_count": null,
   "metadata": {},
   "outputs": [],
   "source": [
    "import numpy as np\n",
    "print(np.finfo(float))"
   ]
  },
  {
   "cell_type": "markdown",
   "metadata": {},
   "source": [
    "### La norme\n",
    "\n",
    "La norme d’encodage des nombre flottants est\n",
    "[IEEE\\_754](https://en.wikipedia.org/wiki/IEEE_754). Il en existe\n",
    "plusieurs versions (plusieurs précisions), mais les plus utilisées dans\n",
    "les langages modernes actuellement sont\n",
    "[binary64](https://en.wikipedia.org/wiki/Double-precision_floating-point_format)\n",
    "(les *doubles*)\n",
    "\n",
    "Le codage a la forme d’une notation scientifique avec :\n",
    "\n",
    "  - un signe, codé sur un bit\n",
    "  - une mantisse, codé sur 52 bits\n",
    "  - un exposant, codé sur 11 bits, comme un entier signé (complément a 2\n",
    "    ) ou non signé.\n",
    "\n",
    "(-1)^signe x 2^{exposant -1023} x 1.mantisse\n",
    "\n",
    "exemple : codage de `-12,125`\n",
    "\n",
    "  - le signe du nombre donne la valeur du bit de signe : `1`\n",
    "  - codage de la partie entière (positive) en binaire : `12` -\\> `1100`\n",
    "  - codage de la partie décimal en binaire par multiplications par 2\n",
    "    successives :\n",
    "      - `0.125 x 2 = **0**.250`\n",
    "      - `0.25 x 2 = **0**.5`\n",
    "      - `0.5 x 2 = **1**`\n",
    "      - \\=\\> `0.001`\n",
    "  - assemblage de la partie entière avec la partie décimale puis\n",
    "    normalisation\n",
    "      - `12.125` -\\> `1100.001` -\\> `1.100001 x 2^3`\n",
    "      - l’exposant vaut `3` + `1023` en binaire sur 11 bits : `1026 (10)\n",
    "        = 100 0000 0010 (2)`\n",
    "      - la mantisse est la partie à droite de la virgule complétée par\n",
    "        des zéros à droite pour remplir les 52 bits : 10000100000…000\n",
    "        (2)\n",
    "  - \\-12.125 (10) = 1 10000000010\n",
    "    1000010000000000000000000000000000000000000000000000 (2)\n",
    "\n",
    "### Opérations sur les réels\n",
    "\n",
    "Addition et soustraction sont réalisés en passant les 2 nombres a opérer\n",
    "dans le même exposant avant d’additionner/soustraire normalement les\n",
    "mantisses. Puis re-normaliser si nécessaire.\n",
    "\n",
    "Pour Multiplier on additionne les exposant et on multiplie les\n",
    "mantisses, puis le résultat est arrondit et normalisé.\n",
    "\n",
    "Pour diviser on soustrait l’exposant du diviseur à celui du dividende et\n",
    "en divisant la mantisse du dividende par la mantisse du diviseur.\n",
    "\n",
    "### Problèmes de réprésentation\n",
    "\n",
    "#### Problème d’échelle\n",
    "\n",
    "Du fait du codage par mantisse et exposant, pour un exposant donné on a\n",
    "accès à un ensemble de nombre possibles via la mantisse. Deux exposants\n",
    "différents ne donnent pas accès aux même nombres. On ne peut faire\n",
    "d’opérations entre deux nombres *trop différents*.\n",
    "\n",
    "Trop d’écart avec des petit nombres :"
   ]
  },
  {
   "cell_type": "code",
   "execution_count": null,
   "metadata": {},
   "outputs": [],
   "source": [
    "a= 1.0\n",
    "b = 0.0000000000000000000000001\n",
    "print (\"a =\",a)\n",
    "print (\"b =\",b)\n",
    "print(\"a + b =\", a+b)"
   ]
  },
  {
   "cell_type": "markdown",
   "metadata": {},
   "source": [
    "Trop d’écart avec des grands nombres :"
   ]
  },
  {
   "cell_type": "code",
   "execution_count": null,
   "metadata": {},
   "outputs": [],
   "source": [
    "a= 1.0\n",
    "b = 10000000000000000000000000.0\n",
    "print (\"a =\",a)\n",
    "print (\"b =\",b)\n",
    "print(\"a + b =\", a+b)"
   ]
  },
  {
   "cell_type": "markdown",
   "metadata": {},
   "source": [
    "#### Problème de représentation des décimaux\n",
    "\n",
    "Les décimaux ont une représentation exacte en base 10 (d’où leur nom)\n",
    "mais elle ne l’est pas forcement en base 2. Pour un décimal simple\n",
    "(*i.e.* `0.1`) Il peut exister un grand nombre de chiffres après la\n",
    "virgule."
   ]
  },
  {
   "cell_type": "code",
   "execution_count": null,
   "metadata": {},
   "outputs": [],
   "source": [
    "print(0.1)\n",
    "print(\"{:.60f}\".format(0.1))"
   ]
  },
  {
   "cell_type": "markdown",
   "metadata": {},
   "source": [
    "En revanche les nombres exprimables en puissances de 2 sont exactement\n",
    "représentés :"
   ]
  },
  {
   "cell_type": "code",
   "execution_count": null,
   "metadata": {},
   "outputs": [],
   "source": [
    "print(\"{:.60f}\".format(1.0/64.0))"
   ]
  },
  {
   "cell_type": "markdown",
   "metadata": {},
   "source": [
    "#### Problème d’approximation\n",
    "\n",
    "En théorie il *pourrait* y avoir une infinité de chiffres après la\n",
    "virgule pour le codage d’un décimal et il *devrait* y en avoir une\n",
    "infinité ou pour un rationnel non décimal, ou pour un irrationnel mais\n",
    "en pratique on observe des approximations.\n",
    "\n",
    "Tous les réels ne sont bien-sur pas représentable. En machine on dispose\n",
    "d’un nombre fini de valeurs. Un réel est associé à son plus proche\n",
    "voisin représentable en machine. Il se trouve donc dans un interval\n",
    "encadré par deux valeurs codables dans le format.\n",
    "\n",
    "Cela pose des problèmes de précision lors de calculs arithmétiques."
   ]
  },
  {
   "cell_type": "code",
   "execution_count": null,
   "metadata": {},
   "outputs": [],
   "source": [
    "a = 0.1 + 0.2\n",
    "b = 0.3\n",
    "if a == b:\n",
    "    print(\"Tout va bien. -_- \")\n",
    "else:\n",
    "    print(\"Python ne sait pas compter ! :-O\")\n",
    "\n",
    "print(\"a =\",  \"{:.20f}\".format(a))\n",
    "print(\"b =\",  \"{:.20f}\".format(b))"
   ]
  },
  {
   "cell_type": "markdown",
   "metadata": {},
   "source": [
    "Les erreurs s’accumulent avec le nombre de calculs."
   ]
  },
  {
   "cell_type": "code",
   "execution_count": null,
   "metadata": {},
   "outputs": [],
   "source": [
    "print(\"{:30.20f}\".format(sum([0.1]*10)))\n",
    "print(\"{:30.20f}\".format(sum([0.0001]*10000)))\n",
    "print(\"{:30.20f}\".format(sum([0.0000001]*10000000)))"
   ]
  },
  {
   "cell_type": "markdown",
   "metadata": {},
   "source": [
    "#### Exercice sur les nombres\n",
    "\n",
    "On veut écrire une fonction python qui prend en paramètre un nombre\n",
    "flottant positif et qui calcule une approximation de sa racine carrée\n",
    "avec la [Méthode de\n",
    "Héron](https://fr.wikipedia.org/wiki/M%C3%A9thode_de_H%C3%A9ron). Cette\n",
    "méthode est définie comme une suite géométrique par récurrence.\n",
    "\n",
    "On souhaite afficher les valeurs intermédiaires calculées durant le\n",
    "calcul de la série.\n",
    "\n",
    "L’affichage des nombre se fait avec une *précision* (en nombre de\n",
    "chiffres décimaux) donné par la fonction\n",
    "[`numpy.finfo`](https://docs.scipy.org/doc/numpy/reference/generated/numpy.finfo.html).\n",
    "On partage la précision entre les chiffres avant et après la virgule et\n",
    "les nombres sont alignés par la virgule (le point de décimal). On\n",
    "utilise la fonction\n",
    "[`str.format()`](https://docs.python.org/fr/3.5/library/string.html#format-string-syntax)\n",
    "pour régler la mise en forme de l’affichage.\n",
    "\n",
    "Exemple d’affichage"
   ]
  },
  {
   "cell_type": "code",
   "execution_count": null,
   "metadata": {},
   "outputs": [],
   "source": [
    "racine_carree(1234*1234, epsilon)"
   ]
  },
  {
   "cell_type": "markdown",
   "metadata": {},
   "source": [
    "``` text\n",
    "Estimation de la racine carrée de 1522756 :\n",
    "             2.000000000000000\n",
    "        380690.000000000000000\n",
    "        190346.999994746380253\n",
    "         95177.499944837662042\n",
    "         47596.749531142704654\n",
    "         23814.371194056489912\n",
    "         11939.156963972840458\n",
    "          6033.349986314364287\n",
    "          3142.869893457522267\n",
    "          1813.690600258979430\n",
    "          1326.640164750435360\n",
    "          1237.234562149187695\n",
    "          1234.004228136125903\n",
    "          1234.000000007243671\n",
    "          1234.000000000000000\n",
    "```\n"
   ]
  }
 ],
 "metadata": {},
 "nbformat": 4,
 "nbformat_minor": 2
}
