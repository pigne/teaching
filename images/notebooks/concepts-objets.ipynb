{
 "cells": [
  {
   "cell_type": "markdown",
   "metadata": {},
   "source": [
    "# Les concepts objets\n",
    "\n",
    "## Références\n",
    "\n",
    "\\-[Python - Object\n",
    "Oriented](https://www.tutorialspoint.com/python/python_classes_objects.htm),\n",
    "consulté le 12/06/2019. -[Python\n",
    "OOP](https://www.programiz.com/python-programming/object-oriented-programming),\n",
    "consulté le 12/06/2019.\n",
    "\n",
    "## Terminologie\n",
    "\n",
    "### Classe\n",
    "\n",
    "C’est la définition (le patron) d’un nouveau type de donnée composite.\n",
    "Ces types sont un assemblage d’autres types de données, il permettent\n",
    "d’**encapsuler** différentes données (de différents types) dans de\n",
    "nouveaux objets.\n",
    "\n",
    "### Objet\n",
    "\n",
    "c’est un assemblage unique constitué de données dont le type est définie\n",
    "par une classe.\n",
    "\n",
    "### Instance\n",
    "\n",
    "C’est la propriété pour un objet d’être d’une classe donnée. On dit\n",
    "qu’nn objet `o` créé à partir de la classe `A` est une instance de `A`\n",
    "\n",
    "## Méthode\n",
    "\n",
    "C’est une cas particulier de fonction définie à l’intérieur d’une\n",
    "classe. Une méthode ne s’exécute (s’applique) que dans le context d’une\n",
    "instance de classe donnée.\n",
    "\n",
    "### Variable d’instance\n",
    "\n",
    "C’est une variable définie dans une méthode de classe et qui\n",
    "n’appartient qu’a l’instance de classe courante qui exécute cette\n",
    "méthode.\n",
    "\n",
    "### Variable de classe\n",
    "\n",
    "C’est une variable partagée par toutes les instances de la classe. Elles\n",
    "sont définies dans la classe, en dehors de méthodes. Les variables de\n",
    "classe sont beaucoup moins utilisées que les variables d’instance.\n",
    "\n",
    "### Donnée membre\n",
    "\n",
    "C’est une variable d’instance ou de classe associée à une classe et ses\n",
    "instances.\n",
    "\n",
    "### Surcharge de méthode\n",
    "\n",
    "C’est l’attribution de plusieurs comportements pour une fonction\n",
    "(méthode) donnée. Elle se traduit par des variations dans les types\n",
    "d’objets ou d’arguments utilisés dans ces fonctions.\n",
    "\n",
    "### Surcharge d’opérateur\n",
    "\n",
    "C’est l’attribution de plusieurs fonction à un seul opérateur.\n",
    "\n",
    "## Déclaration de classes\n",
    "\n",
    "En python on déclare des classes avec le mot clé `class`, suivit du nom\n",
    "de la classe. Cette déclaration est un bloc qui contient toutes les\n",
    "définitions de la classe.\n",
    "\n",
    "On commence par déclarer une chaîne de caractère qui documente la\n",
    "classe, puis on définie la méthode `__init__()` qui est le constructeur\n",
    "de la classe."
   ]
  },
  {
   "cell_type": "code",
   "execution_count": null,
   "metadata": {},
   "outputs": [],
   "source": [
    "class Point:\n",
    "   'Documentation pour cette classe'\n",
    "   nbPoints = 0 # déclaration d'une variable de classe\n",
    "\n",
    "   def __init__(self, x, y):\n",
    "        print('[constructeur de Point]')\n",
    "        self.x = x # déclaration d'une variable d'instance\n",
    "        self.y = y # déclaration d'une variable d'instance\n",
    "        Point.nbPoints += 1 # accès a une variable de classe\n",
    "\n",
    "   def afficheNbPoints(self):\n",
    "        print(f'{Point.nbPoints:d} points au total')\n",
    "        # ou\n",
    "        # print(\"{.nbPoints:d} points au total\".format(Point))\n",
    "\n",
    "   def affichePoint(self):\n",
    "        print(f'({self.x:.2f}, {self.y:.2f})')\n",
    "        # ou \n",
    "        # print(\"({0.x:.2f}, {0.y:.2f})\".format(self))"
   ]
  },
  {
   "cell_type": "markdown",
   "metadata": {},
   "source": [
    "## Création d’objets"
   ]
  },
  {
   "cell_type": "code",
   "execution_count": null,
   "metadata": {},
   "outputs": [],
   "source": [
    "p1 = Point(0, 5)\n",
    "p2 = Point(10, 5)\n",
    "p3 = Point(10, 10)"
   ]
  },
  {
   "cell_type": "markdown",
   "metadata": {},
   "source": [
    "## Accès aux attributs"
   ]
  },
  {
   "cell_type": "code",
   "execution_count": null,
   "metadata": {},
   "outputs": [],
   "source": [
    "p1.affichePoint()\n",
    "p2.affichePoint()\n",
    "\n",
    "p1.afficheNbPoints()\n",
    "print(Point.nbPoints, \"points...\")"
   ]
  },
  {
   "cell_type": "markdown",
   "metadata": {},
   "source": [
    "## Héritage\n",
    "\n",
    "Une classe peut hériter les propriétés d’une autre classe."
   ]
  },
  {
   "cell_type": "code",
   "execution_count": null,
   "metadata": {},
   "outputs": [],
   "source": [
    "class Point3d(Point): # définition d'une classe fille de Point\n",
    "   def __init__(self, x, y, z):\n",
    "      print('[constructeur de Point3d]')\n",
    "      super().__init__(x, y) # appel au constructeur de Point\n",
    "      self.z = z \n",
    "\n",
    "p3d =  Point3d(1,0,-1)\n",
    "p3d.affichePoint()"
   ]
  },
  {
   "cell_type": "markdown",
   "metadata": {},
   "source": [
    "## Surcharge de méthode"
   ]
  },
  {
   "cell_type": "code",
   "execution_count": null,
   "metadata": {},
   "outputs": [],
   "source": [
    "class Point3d(Point): # définition d'une classe fille de Point\n",
    "    def __init__(self, x, y, z):\n",
    "        print('[constructeur de Point3d]')\n",
    "        super().__init__(x, y) # appel au constructeur de Point\n",
    "        self.z = z\n",
    "\n",
    "    def affichePoint(self):\n",
    "        print(f\"({self.x:.2f}, {self.y:.2f}, {self.z:.2f})\")\n",
    "        # ou \n",
    "        # print(\"({0.x:.2f}, {0.y:.2f}), {0.z:.2f})\".format(self))\n",
    "\n",
    "p3d =  Point3d(1,0,-1)\n",
    "p3d.affichePoint()"
   ]
  },
  {
   "cell_type": "markdown",
   "metadata": {},
   "source": [
    "## surcharge des méthodes de base\n",
    "\n",
    "### `__init__ ( self [,args...] )`\n",
    "\n",
    "Le constructeur, appellée à chaque création d’objets.\n",
    "\n",
    "### `__del__( self )`\n",
    "\n",
    "Le destructeur, appellé avant la destruction de chaque objet.\n",
    "\n",
    "### `__repr__( self )`\n",
    "\n",
    "Chaîne de caractère permettent de ré-instancier l’objet avec la fonction\n",
    "`eval`:"
   ]
  },
  {
   "cell_type": "code",
   "execution_count": null,
   "metadata": {},
   "outputs": [],
   "source": [
    "class Point3d(Point): \n",
    "    # ...\n",
    "    def __repr__(self):\n",
    "        return \"Point3d({},{},{})\".format(self.x, self.y, self.z)\n",
    "    # ..."
   ]
  },
  {
   "cell_type": "markdown",
   "metadata": {},
   "source": [
    "La plupart du temps on souhaite que cette expression soit vrai :"
   ]
  },
  {
   "cell_type": "code",
   "execution_count": null,
   "metadata": {},
   "outputs": [],
   "source": [
    "eval(repr(p3d)) == p3d"
   ]
  },
  {
   "cell_type": "markdown",
   "metadata": {},
   "source": [
    "### `__str__( self )`\n",
    "\n",
    "Représentation “lisible” de l’objet. Dans notre exemple\n",
    "`Point3d.affichePoint()` joue le role de `__str__()`"
   ]
  },
  {
   "cell_type": "code",
   "execution_count": null,
   "metadata": {},
   "outputs": [],
   "source": [
    "class Point3d(Point):\n",
    "    # ...\n",
    "    def affichePoint(self):\n",
    "        print(f\"({self.x:.2f}, {self.y:.2f}, {self.z:.2f})\")\n",
    "    # ..."
   ]
  },
  {
   "cell_type": "markdown",
   "metadata": {},
   "source": [
    "### `__cmp__ ( self, x )`\n",
    "\n",
    "Comparaison de cet objet avec un autre (du même type). Utile pour\n",
    "l’utilisation d’instance de classes dans des collections ou dans les\n",
    "algorithmes de tri.\n",
    "\n",
    "## Surcharge d’opérateurs\n",
    "\n",
    "| Operator            | Expression | Internally           |\n",
    "| ------------------- | ---------- | -------------------- |\n",
    "| Addition            | `p1 + p2`  | `p1.__add__(p2)`     |\n",
    "| Subtraction         | `p1 - p2`  | `p1.__sub__(p2)`     |\n",
    "| Multiplication      | `p1 * p2`  | `p1.__mul__(p2)`     |\n",
    "| Power               | `p1 ** p2` | `p1.__pow__(p2)`     |\n",
    "| Division            | `p1 / p2`  | `p1.__truediv__(p2)` |\n",
    "| Floor Division      | `p1 // p2` | `p1.__floordiv__(p)` |\n",
    "| Remainder (modulo)  | `p1 % p2`  | `p1.__mod__(p2)`     |\n",
    "| Bitwise Left Shift  | `p1 << p2` | `p1.__lshift__(p2)`  |\n",
    "| Bitwise Right Shift | `p1 >> p2` | `p1.__rshift__(p2)`  |\n",
    "| Bitwise AND         | `p1 & p2`  | `p1.__and__(p2)`     |\n",
    "| Bitwise OR          | `p1 \\| p2` | `p1.__or__(p2)`      |\n",
    "| Bitwise XOR         | `p1 ^ p2`  | `p1.__xor__(p2)`     |\n",
    "| Bitwise NOT         | `~p1`      | `p1.__invert__()`    |\n",
    "\n",
    "## Surcharge d’opérateurs de comparaison\n",
    "\n",
    "| Operator                 | Expression | Internally      |\n",
    "| ------------------------ | ---------- | --------------- |\n",
    "| Less than                | `p1 < p2`  | `p1.__lt__(p2)` |\n",
    "| Less than or equal to    | `p1 <= p2` | `p1.__le__(p2)` |\n",
    "| Equal to                 | `p1 == p2` | `p1.__eq__(p2)` |\n",
    "| Not equal to             | `p1 != p2` | `p1.__ne__(p2)` |\n",
    "| Greater than             | `p1 > p2`  | `p1.__gt__(p2)` |\n",
    "| Greater than or equal to | `p1 >= p2` | `p1.__ge__(p2)` |\n",
    "\n",
    "### Exercice\n",
    "\n",
    "[Quiz sur les\n",
    "Classes](https://www.programiz.com/python-programming/quiz/object-class/take)"
   ]
  }
 ],
 "metadata": {},
 "nbformat": 4,
 "nbformat_minor": 2
}
