{
 "cells": [
  {
   "cell_type": "markdown",
   "metadata": {},
   "source": [
    "# Configurations et installations préliminaires au cours\n",
    "\n",
    "Dans le cadre des cours de de DIU EIL à l’université le Havre\n",
    "Normandie,certaines commandes et configurations propres à\n",
    "l’environnement de travail sont nécessaires. Les postes disposent de\n",
    "deux systèmes d’exploitation : Windows et Ubuntu (Linux). Python est\n",
    "installé sur les deux systèmes mais des configurations et des\n",
    "installations complémentaires sont nécessaires.\n",
    "\n",
    "## Accès\n",
    "\n",
    "Les participants disposent théoriquement d’un compte utilisable à la\n",
    "fois pour se connecter aux postes de travail et aussi pour accéder aux\n",
    "ressources pédagogiques (<https://eureka.univ-lehavre.fr>).\n",
    "\n",
    "Dans Eureka il faut rechercher le cours `\"DIU EIL 1\"` et s’y inscrire.\n",
    "C’est ici que se trouvent les ressources et les supports de cours.\n",
    "\n",
    "## Connexion\n",
    "\n",
    "Pour ce cours, on utilisera Linux (Ubuntu). Il faut redémarrer les\n",
    "postes si nécessaire et choisir `\"Ubuntu\"` dans la liste, au démarrage\n",
    "du poste.\n",
    "\n",
    "## Installation de `pip` et configuration du système\n",
    "\n",
    "A n’exécuter qu’une seule fois sur les postes de l’université :"
   ]
  },
  {
   "cell_type": "markdown",
   "metadata": {},
   "source": [
    "``` bash\n",
    "curl https://bootstrap.pypa.io/get-pip.py -o get-pip.py\n",
    "python3 get-pip.py --user\n",
    "echo \"export PATH=\\$PATH:\\${HOME}/.local/bin\" >> ~/.profile\n",
    "export PATH=$PATH:${HOME}/.local/bin\n",
    "```\n"
   ]
  },
  {
   "cell_type": "markdown",
   "metadata": {},
   "source": [
    "## Installation de `jupyter` et autre modules\n",
    "\n",
    "Les *Jupyter Notebooks* permettent de partager facilement du code python\n",
    "des équations du texte et des graphiques.\n",
    "\n",
    "A n’exécuter qu’une seule fois :"
   ]
  },
  {
   "cell_type": "markdown",
   "metadata": {},
   "source": [
    "``` bash\n",
    "pip3 install --user jupyter\n",
    "```\n"
   ]
  },
  {
   "cell_type": "markdown",
   "metadata": {},
   "source": [
    "D’une manière générale on utilisera cette commande pour installer des\n",
    "paquets (*packages*) dans python (sans oublier le `--user`). Par exemple\n",
    ":"
   ]
  },
  {
   "cell_type": "markdown",
   "metadata": {},
   "source": [
    "``` bash\n",
    "pip3 install --user numpy pandas_ods_reader\n",
    "```\n"
   ]
  },
  {
   "cell_type": "markdown",
   "metadata": {},
   "source": [
    "<!-- > /dev/null 2>&1 && echo \"OK.\" || exit_on_error \"Erreur.\" -->\n",
    "\n",
    "## Utilisation des *notebooks*\n",
    "\n",
    "Une fois `jupyter` installé on peut démarrer l’application à partir d’un\n",
    "terminal, dans un dossier ou se trouverons les fichiers *notesbooks*.\n",
    "\n",
    "On lance le serveur avec la commande :"
   ]
  },
  {
   "cell_type": "markdown",
   "metadata": {},
   "source": [
    "``` bash\n",
    "jupyter notebook\n",
    "```\n"
   ]
  },
  {
   "cell_type": "markdown",
   "metadata": {},
   "source": [
    "Cette commande bloque le terminal et ouvre le navigateur Web sur\n",
    "l’application Web Jupyter.\n",
    "\n",
    "On peut ensuite suivre le cours, exécuter les exemples et faire les\n",
    "exercices en téléchargent les fichiers *notebooks* et en les lançant\n",
    "dans l’application Web Jupyter."
   ]
  },
  {
   "cell_type": "code",
   "execution_count": null,
   "metadata": {},
   "outputs": [],
   "source": [
    "1 + 1"
   ]
  }
 ],
 "metadata": {},
 "nbformat": 4,
 "nbformat_minor": 2
}
