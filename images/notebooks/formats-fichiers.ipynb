{
 "cells": [
  {
   "cell_type": "markdown",
   "metadata": {},
   "source": [
    "# Les formats de fichiers usuels\n",
    "\n",
    "## Réfrences\n",
    "\n",
    "  - [CSV](https://fr.wikipedia.org/wiki/Comma-separated_values),\n",
    "    Wikipédia, le 12 juin 2019\n",
    "  - [Documentation de\n",
    "    Pandas](https://pandas.pydata.org/pandas-docs/stable/reference/frame.html),\n",
    "    le 12 juin 2019\n",
    "\n",
    "## archives\n",
    "\n",
    "## formats de fichiers d’échange de données\n",
    "\n",
    "### Les formats de données tabulées\n",
    "\n",
    "Les tableurs proposent de stoker d’information sous forme de tableau.\n",
    "Les données sont référencés par des numéros de lignes et de colonnes.\n",
    "Ces formats sont normalisés (Office Open XML, OpenDocument) et supportés\n",
    "par des logiciels libres (LibreOffice) et propriétaires (Excel, Number).\n",
    "\n",
    "CSV (*Comma-Separated-Values*) est un format textuel non normalisé (mais\n",
    "faisant l’objet d’une [RFC](https://tools.ietf.org/html/rfc4180)). Il\n",
    "permet de stocker les données tabulées en identifiant nominativement les\n",
    "colonnes."
   ]
  },
  {
   "cell_type": "markdown",
   "metadata": {},
   "source": [
    "``` csv\n",
    "Civilité,Prénom,Année de naissance\n",
    "M,Alphonse,1932\n",
    "F,Béatrice,1964\n",
    "F,Charlotte,1988\n",
    "```\n"
   ]
  },
  {
   "cell_type": "markdown",
   "metadata": {},
   "source": [
    "En python on manipule des données tabulées facilement avec des objets\n",
    "`DataFrame` de bibliothèque `pandas`. La documentation sur les\n",
    "[dataframes](https://pandas.pydata.org/pandas-docs/stable/reference/frame.html)\n",
    "nos servira par la suite."
   ]
  },
  {
   "cell_type": "code",
   "execution_count": null,
   "metadata": {},
   "outputs": [],
   "source": [
    "from pandas import DataFrame \n",
    "\n",
    "data = {\"Civilité\":(\"M\",\"F\", \"F\"),'Prénom':('Alphonse','Béatrice', 'Charlotte'), \"année\":(1932, 1964, 1988)}\n",
    "\n",
    "df = DataFrame(data)\n",
    "print(df.query('Civilité == \"F\"'))\n",
    "\n",
    "print(\"année moyenne: {:.0f}\".format(df['année'].mean()))"
   ]
  },
  {
   "cell_type": "markdown",
   "metadata": {},
   "source": [
    "Lecture d’un tableur ODS dans un dataframe :"
   ]
  },
  {
   "cell_type": "code",
   "execution_count": null,
   "metadata": {},
   "outputs": [],
   "source": [
    "from pandas_ods_reader import read_ods\n",
    "f = \"resultats-2016.ods\"\n",
    "\n",
    "df = read_ods(f, 1)\n",
    "df.head()"
   ]
  },
  {
   "cell_type": "markdown",
   "metadata": {},
   "source": [
    "### Exercice 1\n",
    "\n",
    "Télécharger [l’archive\n",
    "“Données”](https://pigne.org/teaching/DIU_EIL/donnees.zip) Suivre\n",
    "le [TP n°1 sur les tableurs de\n",
    "Licence 1](https://pigne.org/teaching/DIU_EIL/seance01-PIX-tableur.pdf)\n",
    "sans s’attarder sur la mise en forme.\n",
    "\n",
    "### Exercice 2\n",
    "\n",
    "  - Dans le tableur précédent:\n",
    "      - renommer les colonnes “L” “ES” et “S” des élèves présents en\n",
    "        “Présents L”, “Présents ES”, “Présents S” ;\n",
    "      - renommer les colonnes “L” “ES” et “S” des taux de réussite en\n",
    "        “Taux L”, “Taux ES”, “Taux S” ;\n",
    "      - supprimer le première ligne ;\n",
    "      - enregistrer.\n",
    "  - Dans un nouveau notebook, répondre aux questions posées dans\n",
    "    l’exercice 1 à l’aide de python et des `DataFrame` de `pandas`.\n",
    "\n",
    "### Données structurées et typés\n",
    "\n",
    "L’échange de données entre différentes entités est souvent assurés par\n",
    "le format XML. Ce format constitué de balise permet de spécifier le rôle\n",
    "et l’imbrication des balises pour un fichier donné. Les données sont\n",
    "donc typées et structurées.\n",
    "\n",
    "Dans les technologies web, le format JSON s’est imposé. Moins expressif\n",
    "que XML il est plus léger et semble plus simle à manipuler. Il est aussi\n",
    "très proche du langage JavaScript."
   ]
  },
  {
   "cell_type": "code",
   "execution_count": null,
   "metadata": {},
   "outputs": [],
   "source": [
    "import json\n",
    "\n",
    "with open('data.json') as f:\n",
    "    d = json.load(f)\n",
    "    print(d)"
   ]
  },
  {
   "cell_type": "markdown",
   "metadata": {},
   "source": [
    "### Exercice 3\n",
    "\n",
    "Télécharger le [fichier de données\n",
    "JSON](https://pigne.org/teaching/DIU_EIL/data.json). Celui-ci contient\n",
    "un tableau de 3 objets qui ont un champ “data” contenant a son tour un\n",
    "champ “values”. Faire la moyenne des valeurs dans les champs “values”\n",
    "respectivement et afficher de cette façon :"
   ]
  },
  {
   "cell_type": "markdown",
   "metadata": {},
   "source": [
    "``` text\n",
    "- Température Bureau : (TEMPERATURE = 23.11)\n",
    "- Porte du Garage : (DOOR = 0)\n",
    "- Ventilateur Ordinateur Bureau : (FAN_SPEED = 1774.50)\n",
    "```\n"
   ]
  },
  {
   "cell_type": "markdown",
   "metadata": {},
   "source": [
    "## Fichiers images\n",
    "\n",
    "  - les [images\n",
    "    matricielles](https://pigne.org/teaching/DIU_EIL/images-matricielles.pdf)\n",
    "  - les images vectorielles\n",
    "\n",
    "### Exercice 4\n",
    "\n",
    "Télécharger [l’archive\n",
    "“Images”](https://pigne.org/teaching/DIU_EIL/images.zip) Suivre le\n",
    "[TP sur les images matricielles de\n",
    "Licence 1](https://pigne.org/teaching/DIU_EIL/ExerciceImagesMatricielles.pdf)."
   ]
  }
 ],
 "metadata": {},
 "nbformat": 4,
 "nbformat_minor": 2
}
