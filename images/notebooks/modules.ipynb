{
 "cells": [
  {
   "cell_type": "markdown",
   "metadata": {},
   "source": [
    "## Références\n",
    "\n",
    "  - [Modules](https://docs.python.org/3/tutorial/modules.html), consulté\n",
    "    le 16/06/2019\n",
    "\n",
    "## Les modules\n",
    "\n",
    "Un module est un fichier contenant les définitions des déclarations\n",
    "Python. Le nom du fichier est le nom du module plus l’extension `.py`.\n",
    "Ce nom est stocké dans une variable globale `__name__`.\n",
    "\n",
    "Exemple d’un fichier `fibo.py` :"
   ]
  },
  {
   "cell_type": "code",
   "execution_count": null,
   "metadata": {},
   "outputs": [],
   "source": [
    "# Fibonacci numbers module\n",
    "\n",
    "def fib(n):    # write Fibonacci series up to n\n",
    "    a, b = 0, 1\n",
    "    while a < n:\n",
    "        print(a, end=' ')\n",
    "        a, b = b, a+b\n",
    "    print()\n",
    "\n",
    "def fib2(n):   # return Fibonacci series up to n\n",
    "    result = []\n",
    "    a, b = 0, 1\n",
    "    while a < n:\n",
    "        result.append(a)\n",
    "        a, b = b, a+b\n",
    "    return resultv"
   ]
  },
  {
   "cell_type": "markdown",
   "metadata": {},
   "source": [
    "Si on ouvre in interpréteur dans le même dossier, on peut importer ce\n",
    "module pour l’utiliser."
   ]
  },
  {
   "cell_type": "code",
   "execution_count": null,
   "metadata": {},
   "outputs": [],
   "source": [
    "import fibo"
   ]
  },
  {
   "cell_type": "markdown",
   "metadata": {},
   "source": [
    "le nom du module devient disponible dans les symboles de l’interpréteur.\n",
    "Il faut utiliser la notation pointé pour accéder aux fonctions du module\n",
    ":"
   ]
  },
  {
   "cell_type": "code",
   "execution_count": null,
   "metadata": {},
   "outputs": [],
   "source": [
    "fibo.fib(100)"
   ]
  },
  {
   "cell_type": "markdown",
   "metadata": {},
   "source": [
    "## Spécifier ce que l’on importe"
   ]
  },
  {
   "cell_type": "code",
   "execution_count": null,
   "metadata": {},
   "outputs": [],
   "source": [
    " from fibo import fib, fib2"
   ]
  },
  {
   "cell_type": "markdown",
   "metadata": {},
   "source": [
    "Ici le nom du module n’est plus dans la liste des symboles mais les deux\n",
    "fonctions `fib` et `fib2` y sont.\n",
    "\n",
    "On peut aussi importer *tout*, mais c’est une mauvaise pratique :"
   ]
  },
  {
   "cell_type": "code",
   "execution_count": null,
   "metadata": {},
   "outputs": [],
   "source": [
    " from fibo import *"
   ]
  },
  {
   "cell_type": "markdown",
   "metadata": {},
   "source": [
    "On peut renommer les imports :"
   ]
  },
  {
   "cell_type": "code",
   "execution_count": null,
   "metadata": {},
   "outputs": [],
   "source": [
    "from fibo import fib as fibonacci"
   ]
  },
  {
   "cell_type": "markdown",
   "metadata": {},
   "source": [
    "## Exécution de modules comme des scripts\n",
    "\n",
    "Quand un module est exécuté comme un script sa propriété `__name__` vaut\n",
    "`\"__main__\"`. Cela permet de prévoir un comportement différent du mode\n",
    "module, quand on exécute le fichier. Par exemple on va avoir un script\n",
    "principal qui gère les paramètres en ligne commande :"
   ]
  },
  {
   "cell_type": "code",
   "execution_count": null,
   "metadata": {},
   "outputs": [],
   "source": [
    "if __name__ == \"__main__\":\n",
    "    import sys\n",
    "    fib(int(sys.argv[1]))"
   ]
  },
  {
   "cell_type": "markdown",
   "metadata": {},
   "source": [
    "## Localisation des modules\n",
    "\n",
    "quand un module est importé, python le recherche dans différents\n",
    "fichiers données par la valeur de `sys.path` :"
   ]
  },
  {
   "cell_type": "code",
   "execution_count": null,
   "metadata": {},
   "outputs": [],
   "source": [
    "import sys\n",
    "sys.path"
   ]
  },
  {
   "cell_type": "markdown",
   "metadata": {},
   "source": [
    "``` text\n",
    "['', '/usr/lib/python35.zip', '/usr/lib/python3.5', '/usr/lib/python3.5/plat-x86_64-linux-gnu', '/usr/lib/python3.5/lib-dynload', '/home/personnel/pigney/.local/lib/python3.5/site-packages', '/usr/local/lib/python3.5/dist-packages', '/usr/lib/python3/dist-packages']\n",
    "```\n"
   ]
  },
  {
   "cell_type": "markdown",
   "metadata": {},
   "source": [
    "## Fichiers Python “compilés”\n",
    "\n",
    "On trouve dans un dossier contenant des modules un sous-dossier\n",
    "`__pycache__`. Pour chaque module du dossier il y a un fichier `.pyc`\n",
    "équivalant dans `__pycache__`. Des versions compilés des fichiers\n",
    "source s’y trouve. Les fichiers compilés sont chargés plus rapidement\n",
    "par Python. Après le chargement le temps d’exécution est le même pour\n",
    "les fichier compilés que pour les sources.\n",
    "\n",
    "## Modules standards\n",
    "\n",
    "Python est livré avec un grand nombre de modules. [Liste des modules de\n",
    "python 3](https://docs.python.org/3/py-modindex.html)\n",
    "\n",
    "## Les *packages*\n",
    "\n",
    "On peut organiser plusieurs modules (sous-modules) ensembles pour former\n",
    "un packet (*package*). Ces packets regroupent plusieurs modules sous une\n",
    "arborescence commune."
   ]
  },
  {
   "cell_type": "markdown",
   "metadata": {},
   "source": [
    "``` text\n",
    "my_pkg/\n",
    "    - models/\n",
    "      - person.py\n",
    "      - thing.py\n",
    "    - views\n",
    "      - fpv.py\n",
    "      - aerial.py\n",
    "```\n"
   ]
  },
  {
   "cell_type": "code",
   "execution_count": null,
   "metadata": {},
   "outputs": [],
   "source": [
    "from my_pkg.fpv import camera"
   ]
  },
  {
   "cell_type": "markdown",
   "metadata": {},
   "source": [
    "### installation\n",
    "\n",
    "Les packages tiers proposés par d’autres sont utilisables en les\n",
    "téléchargeant et en les mettant dans un des dossiers du `sys.path`.\n",
    "Des utilitaires comme `pip` nous facilite le travail.\n",
    "\n",
    "### Hébergement\n",
    "\n",
    "Les outils comme `pip` vont télécharger les packages pythons depuis\n",
    "l’index des packets pythons (PyPI): <https://pypi.org>\n",
    "\n",
    "## gestion des dépendances\n",
    "\n",
    "Les packages peuvent être publiés à plusieurs degrés de maturité. Ils\n",
    "sont donc versionnés. Quand on installe un package on installe une\n",
    "version précise.\n",
    "\n",
    "## Ou installer les packages ?\n",
    "\n",
    "Les packages s’installent dans l’un des dossiers de `sys.path`. on peut\n",
    "voir 3 niveaux :\n",
    "\n",
    "  - Le niveau “système” (`C:\\python3.7\\lib\\site-packages`,\n",
    "    `/usr/local/lib/python3.7/site-packages`, etc.)\n",
    "  - le niveau “utilisateur” (`C:\\users\\Machin\\....`,\n",
    "    `~/.local/lib/python3.5/site-packages/`)\n",
    "  - Le niveau projet où les packages son gérés séparément et ne génère\n",
    "    pas de conflits de version. Ce niveau est géré par des\n",
    "    **environnements virtuelles**.\n",
    "\n",
    "## gestion des versions des packages et de python\n",
    "\n",
    "Pour gérer efficacement les dépendances et les interpréteurs, on utilise\n",
    "le projet [Pipenv](https://pipenv.readthedocs.io/en/latest/).\n",
    "\n",
    "## Exercice facultatif\n",
    "\n",
    "Mise en application de l’utilisation des packages avec `pipenv` et\n",
    "utilisation d’un package de réalisation de graphiques.\n",
    "\n",
    "Le but est de reprendre [le tableur des résultats du\n",
    "bac 2016](https://pigne.org/teaching/DIU_EIL/resultats-2016.xlsx) pour\n",
    "proposer un graphique similaire à celui-ci\n",
    ":\n",
    "\n",
    "![cam](%7B%7Bsite.url%7D%7D%7B%7Bsite.baseurl%7D%7D/images/camembert.png)\n",
    "\n",
    "Les étapes :\n",
    "\n",
    "  - Installer `pipenv` pour pouvoir gérer facilement les dépendances :\n",
    "      - `pip3 install --user --upgrade pipenv`\n",
    "  - Créer un dossier qui sera la racine du projet :\n",
    "      - `mkdir mon_projet`\n",
    "      - `cd mon_projet`\n",
    "  - Initialliser `pipenv` avec quelques packages en dépendances :\n",
    "      - `pipenv install pandas xlrd matplotlib`\n",
    "  - Créer un script `graphique_resultats.py`\n",
    "  - Reprendre le code `pandas` vu dans les [formats de\n",
    "    fichier](https://pigne.org/teaching/diu_eil/lecture/formats-fichiers)\n",
    "    pour charger [le tableur des résultats du\n",
    "    bac 2016](https://pigne.org/teaching/DIU_EIL/resultats-2016.xlsx)\n",
    "  - Filtrer les données pour n’avoir que les établissements du\n",
    "    département et la ville de votre choix.\n",
    "  - Utiliser la doc de pandas sur les [graphiques en\n",
    "    épis](https://pandas.pydata.org/pandas-docs/stable/reference/api/pandas.DataFrame.plot.pie.html)\n",
    "    pour réaliser le graphique."
   ]
  }
 ],
 "metadata": {},
 "nbformat": 4,
 "nbformat_minor": 2
}
