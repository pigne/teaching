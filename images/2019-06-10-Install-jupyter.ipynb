{
 "cells": [
  {
   "cell_type": "markdown",
   "metadata": {},
   "source": [
    "---\n",
    "layout: post\n",
    "title: Configurations et installations préliminaires au cours\n",
    "author: Yoann Pigné\n",
    "published: true\n",
    "categories:  \n",
    "- DIU_EIL\n",
    "- lecture\n",
    "---\n",
    "\n",
    "# Configurations et installations préliminaires au cours\n",
    "\n",
    "Dans le cadre des cours de de DIU EIL à l'université le Havre Normandie,certaines commandes et configurations  propres à l'environnement de travail sont nécessaires. Les postes disposent de deux systèmes d'exploitation : Windows et Ubuntu (Linux). Python est installé sur les deux systèmes mais des configurations et des installations complémentaires sot nécessaires.\n",
    "\n",
    "## Accès\n",
    "\n",
    "Les participants disposent théoriquement d'un compte utilisable à la fois pour se connecter aux postes de travail et aussi pour accéder aux ressources pédagogiques (<https://eureka.univ-lehavre.fr>).\n",
    "\n",
    "Dans Eureka il faut rechercher le cours `\"DIU EIL 1\"` et s'y inscrire. C'est ici que se trouvent les ressources et les supports de cours. \n",
    "\n",
    "## Connexion\n",
    "\n",
    "Pour ce cours, on utilisera Linux (Ubuntu). Il faut redémarrer les postes si nécessaire et choisir `\"Ubuntu\"`  dans la liste, au démarrage du poste.\n",
    "\n",
    "\n",
    "## Installation de `pip` et configuration du système\n",
    "\n",
    "A n'exécuter qu'une seule fois sur les postes de l'université :"
   ]
  },
  {
   "cell_type": "markdown",
   "metadata": {},
   "source": [
    "```bash\n",
    "curl https://bootstrap.pypa.io/get-pip.py -o get-pip.py\n",
    "python3 get-pip.py --user\n",
    "echo \"export PATH=\\$PATH:\\${HOME}/.local/bin\" >> ~/.profile\n",
    "export PATH=$PATH:${HOME}/.local/bin\n",
    "```\n"
   ]
  },
  {
   "cell_type": "markdown",
   "metadata": {},
   "source": [
    "## Installation de `jupyter`\n",
    "\n",
    "Les *Jupyter Notebooks* permettent de partager\n",
    "facilement du code python des équations du texte et des graphiques. \n",
    "\n",
    "A n'exécuter qu'une seule fois :"
   ]
  },
  {
   "cell_type": "markdown",
   "metadata": {},
   "source": [
    "```bash\n",
    "pip3 install --user jupyter\n",
    "```\n"
   ]
  },
  {
   "cell_type": "markdown",
   "metadata": {},
   "source": [
    "<!-- > /dev/null 2>&1 && echo \"OK.\" || exit_on_error \"Erreur.\" -->\n",
    "\n",
    "## Utilisation des *notebooks* \n",
    "\n",
    "Une fois `jupyter`  installé on peut démarer l'application à partir d'un terminal, dans un dossier ou se trouverons les fichiers *notesbooks*. \n",
    "\n",
    "On lance le serveur avec la commande :"
   ]
  },
  {
   "cell_type": "markdown",
   "metadata": {},
   "source": [
    "```bash\n",
    "jupyter notebook\n",
    "```\n"
   ]
  },
  {
   "cell_type": "markdown",
   "metadata": {},
   "source": [
    "Cette commande bloque le terminal et ouvre le navigateur Web sur l'application Web Jupyter.\n",
    "\n",
    "On peut ensuite suivre le cours, exécuter les exemple et faire les exercices en téléchargent les fichiers *notebooks* et en les lançant dans l'application Web Jupyter.\n",
    "\n",
    "Remarque : ce document est également un [notebook à télécharger](https://pigne.org/teaching/images/2019-06-10-Install-jupyter.ipynb) et a exécuter :"
   ]
  },
  {
   "cell_type": "code",
   "execution_count": null,
   "metadata": {},
   "outputs": [],
   "source": [
    "1 + 1"
   ]
  }
 ],
 "metadata": {},
 "nbformat": 4,
 "nbformat_minor": 2
}
